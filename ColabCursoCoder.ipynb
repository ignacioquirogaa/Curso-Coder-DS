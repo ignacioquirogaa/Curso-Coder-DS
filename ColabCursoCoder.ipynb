{
  "nbformat": 4,
  "nbformat_minor": 0,
  "metadata": {
    "colab": {
      "provenance": [],
      "authorship_tag": "ABX9TyOgMxqpMr6NxaBreBbOesBy",
      "include_colab_link": true
    },
    "kernelspec": {
      "name": "python3",
      "display_name": "Python 3"
    },
    "language_info": {
      "name": "python"
    }
  },
  "cells": [
    {
      "cell_type": "markdown",
      "metadata": {
        "id": "view-in-github",
        "colab_type": "text"
      },
      "source": [
        "<a href=\"https://colab.research.google.com/github/ignacioquirogaa/Curso-Coder-DS/blob/main/ColabCursoCoder.ipynb\" target=\"_parent\"><img src=\"https://colab.research.google.com/assets/colab-badge.svg\" alt=\"Open In Colab\"/></a>"
      ]
    },
    {
      "cell_type": "code",
      "execution_count": null,
      "metadata": {
        "colab": {
          "base_uri": "https://localhost:8080/"
        },
        "id": "K8Vl-eo3caPs",
        "outputId": "d7d75188-b529-48ec-a853-bb805dfef33a"
      },
      "outputs": [
        {
          "output_type": "stream",
          "name": "stdout",
          "text": [
            "Hola\n"
          ]
        }
      ],
      "source": [
        "print(\"Hola\")"
      ]
    },
    {
      "cell_type": "code",
      "source": [
        "print(\"AAa\")"
      ],
      "metadata": {
        "id": "YWJg-iUqcmuS",
        "outputId": "d73aa125-494c-4c1a-eb43-c88270ba36cb",
        "colab": {
          "base_uri": "https://localhost:8080/"
        }
      },
      "execution_count": null,
      "outputs": [
        {
          "output_type": "stream",
          "name": "stdout",
          "text": [
            "AAa\n"
          ]
        }
      ]
    }
  ]
}